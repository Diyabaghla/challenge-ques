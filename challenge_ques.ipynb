{
  "nbformat": 4,
  "nbformat_minor": 0,
  "metadata": {
    "colab": {
      "provenance": [],
      "authorship_tag": "ABX9TyPpk8dd2iVr38gmOYM7FCNi",
      "include_colab_link": true
    },
    "kernelspec": {
      "name": "python3",
      "display_name": "Python 3"
    },
    "language_info": {
      "name": "python"
    }
  },
  "cells": [
    {
      "cell_type": "markdown",
      "metadata": {
        "id": "view-in-github",
        "colab_type": "text"
      },
      "source": [
        "<a href=\"https://colab.research.google.com/github/Diyabaghla/challenge-ques/blob/main/challenge_ques.ipynb\" target=\"_parent\"><img src=\"https://colab.research.google.com/assets/colab-badge.svg\" alt=\"Open In Colab\"/></a>"
      ]
    },
    {
      "cell_type": "code",
      "execution_count": 9,
      "metadata": {
        "colab": {
          "base_uri": "https://localhost:8080/"
        },
        "id": "qwWP8AK0tklS",
        "outputId": "be62aee7-f1be-471d-978e-221aeeaf4a14"
      },
      "outputs": [
        {
          "output_type": "stream",
          "name": "stdout",
          "text": [
            "['ram', 1, 'shyam', 2, 'aman', 3]\n",
            "['1', '2', '3', 'aman', 'ram', 'shyam']\n",
            "[1, 2, 3, 'aman', 'ram', 'shyam']\n"
          ]
        }
      ],
      "source": [
        "l=[\"ram\",1,\"shyam\",2,\"aman\",3]\n",
        "print(l)\n",
        "l=[str(i) for i in l]\n",
        "l.sort()\n",
        "print(l)\n",
        "l1=[]\n",
        "for i in l:\n",
        "  try:\n",
        "    l1.append(int(i))\n",
        "  except:\n",
        "    l1.append(i)\n",
        "print(l1)"
      ]
    }
  ]
}